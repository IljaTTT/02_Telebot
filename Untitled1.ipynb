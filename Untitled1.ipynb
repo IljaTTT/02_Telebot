{
 "cells": [
  {
   "cell_type": "code",
   "execution_count": 1,
   "id": "b209b60f",
   "metadata": {
    "scrolled": false
   },
   "outputs": [
    {
     "ename": "NameError",
     "evalue": "name 'image_loader' is not defined",
     "output_type": "error",
     "traceback": [
      "\u001b[0;31m---------------------------------------------------------------------------\u001b[0m",
      "\u001b[0;31mNameError\u001b[0m                                 Traceback (most recent call last)",
      "Input \u001b[0;32mIn [1]\u001b[0m, in \u001b[0;36m<cell line: 4>\u001b[0;34m()\u001b[0m\n\u001b[1;32m      1\u001b[0m \u001b[38;5;28;01mimport\u001b[39;00m \u001b[38;5;21;01mmatplotlib\u001b[39;00m\u001b[38;5;21;01m.\u001b[39;00m\u001b[38;5;21;01mpyplot\u001b[39;00m \u001b[38;5;28;01mas\u001b[39;00m \u001b[38;5;21;01mplt\u001b[39;00m\n\u001b[0;32m----> 4\u001b[0m style_img \u001b[38;5;241m=\u001b[39m \u001b[43mimage_loader\u001b[49m(\u001b[38;5;124m\"\u001b[39m\u001b[38;5;124m./images/style.jpg\u001b[39m\u001b[38;5;124m\"\u001b[39m)\n\u001b[1;32m      5\u001b[0m content_img \u001b[38;5;241m=\u001b[39m image_loader(\u001b[38;5;124m\"\u001b[39m\u001b[38;5;124m./images/content.jpg\u001b[39m\u001b[38;5;124m\"\u001b[39m)\n\u001b[1;32m      6\u001b[0m input_img \u001b[38;5;241m=\u001b[39m content_img\u001b[38;5;241m.\u001b[39mclone()\n",
      "\u001b[0;31mNameError\u001b[0m: name 'image_loader' is not defined"
     ]
    }
   ],
   "source": [
    "import matplotlib.pyplot as plt\n",
    "\n",
    "\n",
    "style_img = image_loader(\"./images/style.jpg\")\n",
    "content_img = image_loader(\"./images/content.jpg\")\n",
    "input_img = content_img.clone()\n",
    "img = run_style_transfer(content_img, style_img,                 \n",
    "                   input_img, num_steps=500, \n",
    "                   texture_gen = True)\n",
    "img = img.permute(1,2,0).cpu().detach().numpy()\n",
    "imgplot = plt.imshow(img, )\n",
    "plt.show()"
   ]
  },
  {
   "cell_type": "code",
   "execution_count": null,
   "id": "16030303",
   "metadata": {},
   "outputs": [],
   "source": [
    "imgplot = plt.imshow(img, figsize = (8,8) )"
   ]
  },
  {
   "cell_type": "code",
   "execution_count": null,
   "id": "12fca923",
   "metadata": {},
   "outputs": [],
   "source": []
  },
  {
   "cell_type": "code",
   "execution_count": null,
   "id": "503b34cc",
   "metadata": {},
   "outputs": [],
   "source": []
  }
 ],
 "metadata": {
  "kernelspec": {
   "display_name": "Python [conda env:a4001]",
   "language": "python",
   "name": "conda-env-a4001-py"
  },
  "language_info": {
   "codemirror_mode": {
    "name": "ipython",
    "version": 3
   },
   "file_extension": ".py",
   "mimetype": "text/x-python",
   "name": "python",
   "nbconvert_exporter": "python",
   "pygments_lexer": "ipython3",
   "version": "3.9.12"
  }
 },
 "nbformat": 4,
 "nbformat_minor": 5
}
